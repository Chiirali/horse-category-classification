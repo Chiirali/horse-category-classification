{
  "nbformat": 4,
  "nbformat_minor": 0,
  "metadata": {
    "colab": {
      "provenance": []
    },
    "kernelspec": {
      "name": "python3",
      "display_name": "Python 3"
    },
    "language_info": {
      "name": "python"
    }
  },
  "cells": [
    {
      "cell_type": "markdown",
      "source": [
        "# Setup"
      ],
      "metadata": {
        "id": "mMW0vFA_5381"
      }
    },
    {
      "cell_type": "code",
      "execution_count": 82,
      "metadata": {
        "id": "01WGvZ-2kggX"
      },
      "outputs": [],
      "source": [
        "import matplotlib.pyplot as plt\n",
        "import numpy as np\n",
        "import PIL\n",
        "import tensorflow as tf\n",
        "\n",
        "from tensorflow import keras\n",
        "from tensorflow.keras import layers\n",
        "from tensorflow.keras.models import Sequential\n",
        "from google.colab import drive\n",
        "import os\n",
        "\n",
        "import sklearn.metrics\n",
        "from tensorflow.keras.applications.mobilenet import MobileNet\n",
        "from tensorflow.keras.layers import Dense, GlobalAveragePooling2D\n",
        "from tensorflow.keras.models import Model\n",
        "from sklearn.metrics import classification_report\n",
        "from tensorflow.keras.callbacks import EarlyStopping"
      ]
    },
    {
      "cell_type": "code",
      "source": [
        "drive.mount(\"/content/drive\", force_remount=True)\n",
        "root = \"/content/drive/My Drive/Horse Category Classification\"\n",
        "os.chdir(root)\n",
        "data_root = root + \"/data\"\n",
        "data_root_train = data_root + \"/train\"\n",
        "data_root_test = data_root + \"/test\""
      ],
      "metadata": {
        "colab": {
          "base_uri": "https://localhost:8080/"
        },
        "id": "0HC3r_vP57kd",
        "outputId": "50dc7ee7-280a-4281-bb99-d5070eeb9564"
      },
      "execution_count": 83,
      "outputs": [
        {
          "output_type": "stream",
          "name": "stdout",
          "text": [
            "Mounted at /content/drive\n"
          ]
        }
      ]
    },
    {
      "cell_type": "code",
      "source": [
        "BATCH_SIZE = 32\n",
        "HEIGHT = 224\n",
        "WIDTH = 224"
      ],
      "metadata": {
        "id": "Y0l8_ztJT4e3"
      },
      "execution_count": 84,
      "outputs": []
    },
    {
      "cell_type": "markdown",
      "source": [
        "# 02 Overfit\n",
        "\n",
        "In this notebook I am loading the train data and training it for many epochs. want to see whether I can overfit it to perfect (1.0) F1 Scores. That would mean that the model can perform the basic task that I am after. As a model I am using a basic mobilenet because it is small and retrained it for my purposes."
      ],
      "metadata": {
        "id": "ez805h9wUnd2"
      }
    },
    {
      "cell_type": "code",
      "source": [
        "class_names=['heavy', 'light', 'pony']\n",
        "\n",
        "train_ds = tf.keras.preprocessing.image_dataset_from_directory(\n",
        "    data_root_train,\n",
        "    labels='inferred',\n",
        "    label_mode='categorical',\n",
        "    class_names=class_names,\n",
        "    color_mode='rgb',\n",
        "    batch_size=32,\n",
        "    image_size=(224, 224),\n",
        "    shuffle=True,\n",
        "    validation_split=0.2,\n",
        "    seed=42,\n",
        "    subset=\"training\"\n",
        ")"
      ],
      "metadata": {
        "colab": {
          "base_uri": "https://localhost:8080/"
        },
        "id": "wLMV8nh1aYxG",
        "outputId": "4236cd23-8da3-42da-a073-721e2c9d863f"
      },
      "execution_count": 85,
      "outputs": [
        {
          "output_type": "stream",
          "name": "stdout",
          "text": [
            "Found 477 files belonging to 3 classes.\n",
            "Using 382 files for training.\n"
          ]
        }
      ]
    },
    {
      "cell_type": "code",
      "source": [
        "AUTOTUNE = tf.data.AUTOTUNE\n",
        "train_ds = train_ds.cache().prefetch(buffer_size=AUTOTUNE)"
      ],
      "metadata": {
        "id": "AgO1IpFdby6p"
      },
      "execution_count": 86,
      "outputs": []
    },
    {
      "cell_type": "code",
      "source": [
        "def recompile_custom_output(base_model):\n",
        "    x = base_model.output\n",
        "    x = GlobalAveragePooling2D()(x)\n",
        "    # add a fully-connected layer\n",
        "    x = Dense(1024, activation='relu')(x)\n",
        "    predictions = Dense(3, activation='softmax')(x)\n",
        "    model = Model(inputs=base_model.input, outputs=predictions)\n",
        "\n",
        "    # first: train only the top layers (which were randomly initialized)\n",
        "    # i.e. freeze all convolutional ResNet50 layers\n",
        "    for layer in base_model.layers:\n",
        "        layer.trainable = False\n",
        "\n",
        "    # compile the model (should be done *after'* setting layers to non-trainable)\n",
        "    model.compile(optimizer='rmsprop', loss='categorical_crossentropy', metrics=['accuracy'])\n",
        "\n",
        "    return model"
      ],
      "metadata": {
        "id": "Xprx3WVER2v3"
      },
      "execution_count": 87,
      "outputs": []
    },
    {
      "cell_type": "code",
      "source": [
        "mobileNet = MobileNet(weights='imagenet', include_top=False)\n",
        "model = recompile_custom_output(mobileNet)"
      ],
      "metadata": {
        "colab": {
          "base_uri": "https://localhost:8080/"
        },
        "id": "x9KGfiqYstMT",
        "outputId": "a254cbeb-7e76-429f-97e3-739e393f3d7f"
      },
      "execution_count": 88,
      "outputs": [
        {
          "output_type": "stream",
          "name": "stderr",
          "text": [
            "WARNING:tensorflow:`input_shape` is undefined or non-square, or `rows` is not in [128, 160, 192, 224]. Weights for input shape (224, 224) will be loaded as the default.\n"
          ]
        }
      ]
    },
    {
      "cell_type": "code",
      "source": [
        "callbacks = EarlyStopping(monitor='loss', mode = \"min\", patience=5)"
      ],
      "metadata": {
        "id": "rQ6xYyg-osKO"
      },
      "execution_count": 89,
      "outputs": []
    },
    {
      "cell_type": "code",
      "source": [
        "epochs=50\n",
        "history = model.fit(\n",
        "  train_ds,\n",
        "  epochs=epochs,\n",
        "  callbacks = callbacks\n",
        ")"
      ],
      "metadata": {
        "colab": {
          "base_uri": "https://localhost:8080/"
        },
        "id": "BT0_hlE_1qSy",
        "outputId": "ba3456a6-8afc-4ec0-9dfe-37d5309bb890"
      },
      "execution_count": 90,
      "outputs": [
        {
          "output_type": "stream",
          "name": "stdout",
          "text": [
            "Epoch 1/50\n",
            "12/12 [==============================] - 20s 1s/step - loss: 3.7592 - accuracy: 0.3796\n",
            "Epoch 2/50\n",
            "12/12 [==============================] - 16s 1s/step - loss: 1.1993 - accuracy: 0.4476\n",
            "Epoch 3/50\n",
            "12/12 [==============================] - 15s 1s/step - loss: 0.9403 - accuracy: 0.5916\n",
            "Epoch 4/50\n",
            "12/12 [==============================] - 15s 1s/step - loss: 0.8899 - accuracy: 0.6178\n",
            "Epoch 5/50\n",
            "12/12 [==============================] - 16s 1s/step - loss: 0.7900 - accuracy: 0.6309\n",
            "Epoch 6/50\n",
            "12/12 [==============================] - 15s 1s/step - loss: 0.7964 - accuracy: 0.6204\n",
            "Epoch 7/50\n",
            "12/12 [==============================] - 15s 1s/step - loss: 0.7552 - accuracy: 0.6990\n",
            "Epoch 8/50\n",
            "12/12 [==============================] - 15s 1s/step - loss: 0.5658 - accuracy: 0.7775\n",
            "Epoch 9/50\n",
            "12/12 [==============================] - 16s 1s/step - loss: 0.7564 - accuracy: 0.6885\n",
            "Epoch 10/50\n",
            "12/12 [==============================] - 15s 1s/step - loss: 0.4755 - accuracy: 0.8115\n",
            "Epoch 11/50\n",
            "12/12 [==============================] - 15s 1s/step - loss: 0.5207 - accuracy: 0.7932\n",
            "Epoch 12/50\n",
            "12/12 [==============================] - 15s 1s/step - loss: 0.4306 - accuracy: 0.8691\n",
            "Epoch 13/50\n",
            "12/12 [==============================] - 15s 1s/step - loss: 0.4087 - accuracy: 0.8560\n",
            "Epoch 14/50\n",
            "12/12 [==============================] - 16s 1s/step - loss: 0.3988 - accuracy: 0.8351\n",
            "Epoch 15/50\n",
            "12/12 [==============================] - 15s 1s/step - loss: 0.3329 - accuracy: 0.8691\n",
            "Epoch 16/50\n",
            "12/12 [==============================] - 16s 1s/step - loss: 0.3215 - accuracy: 0.9058\n",
            "Epoch 17/50\n",
            "12/12 [==============================] - 16s 1s/step - loss: 0.3693 - accuracy: 0.8560\n",
            "Epoch 18/50\n",
            "12/12 [==============================] - 16s 1s/step - loss: 0.1647 - accuracy: 0.9555\n",
            "Epoch 19/50\n",
            "12/12 [==============================] - 18s 2s/step - loss: 0.2897 - accuracy: 0.8901\n",
            "Epoch 20/50\n",
            "12/12 [==============================] - 16s 1s/step - loss: 0.2992 - accuracy: 0.8979\n",
            "Epoch 21/50\n",
            "12/12 [==============================] - 16s 1s/step - loss: 0.2411 - accuracy: 0.9084\n",
            "Epoch 22/50\n",
            "12/12 [==============================] - 16s 1s/step - loss: 0.0626 - accuracy: 0.9974\n",
            "Epoch 23/50\n",
            "12/12 [==============================] - 16s 1s/step - loss: 0.1960 - accuracy: 0.9450\n",
            "Epoch 24/50\n",
            "12/12 [==============================] - 16s 1s/step - loss: 0.3832 - accuracy: 0.9031\n",
            "Epoch 25/50\n",
            "12/12 [==============================] - 15s 1s/step - loss: 0.0381 - accuracy: 1.0000\n",
            "Epoch 26/50\n",
            "12/12 [==============================] - 15s 1s/step - loss: 0.3211 - accuracy: 0.9058\n",
            "Epoch 27/50\n",
            "12/12 [==============================] - 16s 1s/step - loss: 0.0766 - accuracy: 0.9791\n",
            "Epoch 28/50\n",
            "12/12 [==============================] - 17s 1s/step - loss: 0.0239 - accuracy: 1.0000\n",
            "Epoch 29/50\n",
            "12/12 [==============================] - 17s 1s/step - loss: 0.3990 - accuracy: 0.9188\n",
            "Epoch 30/50\n",
            "12/12 [==============================] - 17s 1s/step - loss: 0.0313 - accuracy: 1.0000\n",
            "Epoch 31/50\n",
            "12/12 [==============================] - 16s 1s/step - loss: 0.0172 - accuracy: 1.0000\n",
            "Epoch 32/50\n",
            "12/12 [==============================] - 16s 1s/step - loss: 0.3651 - accuracy: 0.9319\n",
            "Epoch 33/50\n",
            "12/12 [==============================] - 16s 1s/step - loss: 0.0235 - accuracy: 1.0000\n",
            "Epoch 34/50\n",
            "12/12 [==============================] - 18s 2s/step - loss: 0.0116 - accuracy: 1.0000\n",
            "Epoch 35/50\n",
            "12/12 [==============================] - 16s 1s/step - loss: 0.0077 - accuracy: 1.0000\n",
            "Epoch 36/50\n",
            "12/12 [==============================] - 16s 1s/step - loss: 0.5542 - accuracy: 0.8822\n",
            "Epoch 37/50\n",
            "12/12 [==============================] - 16s 1s/step - loss: 0.0173 - accuracy: 1.0000\n",
            "Epoch 38/50\n",
            "12/12 [==============================] - 16s 1s/step - loss: 0.0095 - accuracy: 1.0000\n",
            "Epoch 39/50\n",
            "12/12 [==============================] - 17s 1s/step - loss: 0.0061 - accuracy: 1.0000\n",
            "Epoch 40/50\n",
            "12/12 [==============================] - 16s 1s/step - loss: 0.0044 - accuracy: 1.0000\n",
            "Epoch 41/50\n",
            "12/12 [==============================] - 16s 1s/step - loss: 0.4936 - accuracy: 0.9005\n",
            "Epoch 42/50\n",
            "12/12 [==============================] - 17s 1s/step - loss: 0.0196 - accuracy: 0.9974\n",
            "Epoch 43/50\n",
            "12/12 [==============================] - 17s 1s/step - loss: 0.0066 - accuracy: 1.0000\n",
            "Epoch 44/50\n",
            "12/12 [==============================] - 16s 1s/step - loss: 0.0042 - accuracy: 1.0000\n",
            "Epoch 45/50\n",
            "12/12 [==============================] - 17s 1s/step - loss: 0.0029 - accuracy: 1.0000\n",
            "Epoch 46/50\n",
            "12/12 [==============================] - 18s 1s/step - loss: 0.0021 - accuracy: 1.0000\n",
            "Epoch 47/50\n",
            "12/12 [==============================] - 16s 1s/step - loss: 0.0017 - accuracy: 1.0000\n",
            "Epoch 48/50\n",
            "12/12 [==============================] - 17s 1s/step - loss: 0.6941 - accuracy: 0.9084\n",
            "Epoch 49/50\n",
            "12/12 [==============================] - 16s 1s/step - loss: 0.0054 - accuracy: 1.0000\n",
            "Epoch 50/50\n",
            "12/12 [==============================] - 17s 1s/step - loss: 0.0034 - accuracy: 1.0000\n"
          ]
        }
      ]
    },
    {
      "cell_type": "code",
      "source": [
        "acc = history.history['accuracy']\n",
        "loss = history.history['loss']\n",
        "\n",
        "epochs_range = range(epochs)\n",
        "\n",
        "plt.figure(figsize=(8, 8))\n",
        "plt.subplot(1, 3, 1)\n",
        "plt.plot(epochs_range, acc, label='Training Accuracy')\n",
        "plt.legend(loc='lower right')\n",
        "plt.title('Training Accuracy')\n",
        "\n",
        "plt.subplot(1, 2, 2)\n",
        "plt.plot(epochs_range, loss, label='Training Loss')\n",
        "plt.legend(loc='upper right')\n",
        "plt.title('Training Loss')\n",
        "plt.show()"
      ],
      "metadata": {
        "id": "JgnOco7a1q0M",
        "colab": {
          "base_uri": "https://localhost:8080/",
          "height": 768
        },
        "outputId": "b8c5aa79-4f9c-4435-d8ec-ff49e0ca3169"
      },
      "execution_count": 91,
      "outputs": [
        {
          "output_type": "stream",
          "name": "stderr",
          "text": [
            "WARNING:matplotlib.legend:No artists with labels found to put in legend.  Note that artists whose label start with an underscore are ignored when legend() is called with no argument.\n",
            "WARNING:matplotlib.legend:No artists with labels found to put in legend.  Note that artists whose label start with an underscore are ignored when legend() is called with no argument.\n"
          ]
        },
        {
          "output_type": "display_data",
          "data": {
            "text/plain": [
              "<Figure size 800x800 with 2 Axes>"
            ],
            "image/png": "[encoded data removed]"
          },
          "metadata": {}
        }
      ]
    },
    {
      "cell_type": "code",
      "source": [
        "def labels_categorical_batch_dataset(ds):\n",
        "    import numpy as np\n",
        "\n",
        "    test_ls = list(ds.as_numpy_iterator())\n",
        "    true_labels = []\n",
        "    for batch in test_ls:\n",
        "        for batchitem in batch[1].tolist():\n",
        "            true_labels.append(np.argmax(batchitem))\n",
        "    return true_labels\n",
        "\n",
        "def plot_cm(confusion_matrix, class_names):\n",
        "    import pandas as pd\n",
        "    import seaborn as sn\n",
        "    import matplotlib.pyplot as plt\n",
        "\n",
        "    df_cm = pd.DataFrame(confusion_matrix, columns=class_names, index = class_names)\n",
        "    df_cm.index.name = 'Actual'\n",
        "    df_cm.columns.name = 'Predicted'\n",
        "    plt.figure(figsize = (10,7))\n",
        "    sn.set(font_scale=1.4)\n",
        "    sn.heatmap(df_cm, cmap=\"Reds\", annot=True, annot_kws={\"size\": 12}, fmt='g')"
      ],
      "metadata": {
        "id": "EWCZNYdjkJff"
      },
      "execution_count": 92,
      "outputs": []
    },
    {
      "cell_type": "code",
      "source": [
        "trainset_predictions = model.predict(train_ds)\n",
        "train_predicted_labels = [prediction.argmax() for prediction in trainset_predictions]\n",
        "train_true_labels = labels_categorical_batch_dataset(train_ds)"
      ],
      "metadata": {
        "colab": {
          "base_uri": "https://localhost:8080/"
        },
        "id": "clrMNIVgb7Sk",
        "outputId": "576f0494-a3fa-4470-c541-8ba91c2c3d9d"
      },
      "execution_count": 93,
      "outputs": [
        {
          "output_type": "stream",
          "name": "stdout",
          "text": [
            "12/12 [==============================] - 26s 2s/step\n"
          ]
        }
      ]
    },
    {
      "cell_type": "code",
      "source": [
        "confusion_matrix_train = np.array(tf.math.confusion_matrix(train_true_labels, train_predicted_labels))\n",
        "confusion_matrix_train = tf.math.confusion_matrix(train_true_labels, train_predicted_labels)\n",
        "plot_cm(confusion_matrix_train, class_names)"
      ],
      "metadata": {
        "colab": {
          "base_uri": "https://localhost:8080/",
          "height": 637
        },
        "id": "Vbnz_gsOcfRB",
        "outputId": "abf4afee-03a7-4a28-e010-a4c600e58596"
      },
      "execution_count": 94,
      "outputs": [
        {
          "output_type": "display_data",
          "data": {
            "text/plain": [
              "<Figure size 1000x700 with 2 Axes>"
            ],
            "image/png": "[encoded data removed]"
          },
          "metadata": {}
        }
      ]
    },
    {
      "cell_type": "code",
      "source": [
        "print(classification_report(train_true_labels,train_predicted_labels))"
      ],
      "metadata": {
        "colab": {
          "base_uri": "https://localhost:8080/"
        },
        "id": "hSjVr9YIkRBz",
        "outputId": "ae4f4fd3-b348-4a20-9263-08779ecefa5e"
      },
      "execution_count": 95,
      "outputs": [
        {
          "output_type": "stream",
          "name": "stdout",
          "text": [
            "              precision    recall  f1-score   support\n",
            "\n",
            "           0       1.00      1.00      1.00       136\n",
            "           1       1.00      1.00      1.00       119\n",
            "           2       1.00      1.00      1.00       127\n",
            "\n",
            "    accuracy                           1.00       382\n",
            "   macro avg       1.00      1.00      1.00       382\n",
            "weighted avg       1.00      1.00      1.00       382\n",
            "\n"
          ]
        }
      ]
    },
    {
      "cell_type": "markdown",
      "source": [
        "# Summary\n",
        "\n",
        "I trained the model for 50 epochs and it provided me with the perfect F1 scores."
      ],
      "metadata": {
        "id": "Gyb1QO2HhyJJ"
      }
    }
  ]
}