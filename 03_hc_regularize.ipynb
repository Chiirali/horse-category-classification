{
  "nbformat": 4,
  "nbformat_minor": 0,
  "metadata": {
    "colab": {
      "provenance": []
    },
    "kernelspec": {
      "name": "python3",
      "display_name": "Python 3"
    },
    "language_info": {
      "name": "python"
    }
  },
  "cells": [
    {
      "cell_type": "markdown",
      "source": [
        "# Setup"
      ],
      "metadata": {
        "id": "mMW0vFA_5381"
      }
    },
    {
      "cell_type": "code",
      "execution_count": 51,
      "metadata": {
        "id": "01WGvZ-2kggX"
      },
      "outputs": [],
      "source": [
        "import matplotlib.pyplot as plt\n",
        "import numpy as np\n",
        "import PIL\n",
        "import tensorflow as tf\n",
        "\n",
        "from tensorflow import keras\n",
        "from tensorflow.keras import layers\n",
        "from tensorflow.keras.models import Sequential\n",
        "from google.colab import drive\n",
        "import os\n",
        "\n",
        "import sklearn.metrics\n",
        "from tensorflow.keras.applications.mobilenet import MobileNet\n",
        "from tensorflow.keras.layers import Dense, GlobalAveragePooling2D\n",
        "from tensorflow.keras.models import Model\n",
        "from sklearn.metrics import classification_report\n",
        "from tensorflow.keras.callbacks import EarlyStopping"
      ]
    },
    {
      "cell_type": "code",
      "source": [
        "drive.mount(\"/content/drive\", force_remount=True)\n",
        "root = \"/content/drive/My Drive/Horse Category Classification\"\n",
        "os.chdir(root)\n",
        "data_root = root + \"/data\"\n",
        "data_root_train = data_root + \"/train\"\n",
        "data_root_test = data_root + \"/test\""
      ],
      "metadata": {
        "colab": {
          "base_uri": "https://localhost:8080/"
        },
        "id": "0HC3r_vP57kd",
        "outputId": "b0605ab6-9bc7-471f-cf2a-02e4465d6b2a"
      },
      "execution_count": 52,
      "outputs": [
        {
          "output_type": "stream",
          "name": "stdout",
          "text": [
            "Mounted at /content/drive\n"
          ]
        }
      ]
    },
    {
      "cell_type": "code",
      "source": [
        "os.chdir(root+ \"/functions\")\n",
        "import modelling"
      ],
      "metadata": {
        "id": "URSzTuGl7nBL"
      },
      "execution_count": 53,
      "outputs": []
    },
    {
      "cell_type": "code",
      "source": [
        "BATCH_SIZE = 32\n",
        "HEIGHT = 224\n",
        "WIDTH = 224"
      ],
      "metadata": {
        "id": "Y0l8_ztJT4e3"
      },
      "execution_count": 54,
      "outputs": []
    },
    {
      "cell_type": "markdown",
      "source": [
        "# 03 Regularize\n",
        "\n",
        "Now that I made sure that the model can actually perform the task, I want to make it more generic and improve validation / test set performance. I expect that obviously the performance of the training set will decrease due to less overfitting.\n",
        "\n",
        "\n",
        "- Data Augmentation\n",
        "- Early Stopping\n",
        "\n",
        "In custom models I will tryout Dropout and Batch Normalization as well.\n",
        "Also I might generally add more data since my dataset is quite small."
      ],
      "metadata": {
        "id": "ez805h9wUnd2"
      }
    },
    {
      "cell_type": "code",
      "source": [
        "class_names=['heavy', 'light', 'pony']\n",
        "\n",
        "train_ds = tf.keras.preprocessing.image_dataset_from_directory(\n",
        "    data_root_train,\n",
        "    labels='inferred',\n",
        "    label_mode='categorical',\n",
        "    class_names=class_names,\n",
        "    color_mode='rgb',\n",
        "    batch_size=32,\n",
        "    image_size=(224, 224),\n",
        "    shuffle=True,\n",
        "    validation_split=0.2,\n",
        "    seed=42,\n",
        "    subset=\"training\"\n",
        ")"
      ],
      "metadata": {
        "colab": {
          "base_uri": "https://localhost:8080/"
        },
        "id": "PB4_9aiRxDwT",
        "outputId": "7ba309ab-8bf1-433b-d3ae-dd928e34ea48"
      },
      "execution_count": 55,
      "outputs": [
        {
          "output_type": "stream",
          "name": "stdout",
          "text": [
            "Found 477 files belonging to 3 classes.\n",
            "Using 382 files for training.\n"
          ]
        }
      ]
    },
    {
      "cell_type": "code",
      "source": [
        "val_ds = tf.keras.preprocessing.image_dataset_from_directory(\n",
        "    data_root_train,\n",
        "    labels='inferred',\n",
        "    label_mode='categorical',\n",
        "    class_names=class_names,\n",
        "    color_mode='rgb',\n",
        "    batch_size=BATCH_SIZE,\n",
        "    image_size=(HEIGHT, WIDTH),\n",
        "    shuffle=True,\n",
        "    seed=42,\n",
        "    validation_split=0.2,\n",
        "    subset=\"validation\",\n",
        "    crop_to_aspect_ratio=False\n",
        ")"
      ],
      "metadata": {
        "colab": {
          "base_uri": "https://localhost:8080/"
        },
        "id": "wLMV8nh1aYxG",
        "outputId": "70396c2e-6f6a-4d99-d6c1-14a19114ede1"
      },
      "execution_count": 56,
      "outputs": [
        {
          "output_type": "stream",
          "name": "stdout",
          "text": [
            "Found 477 files belonging to 3 classes.\n",
            "Using 95 files for validation.\n"
          ]
        }
      ]
    },
    {
      "cell_type": "code",
      "source": [
        "test_ds = tf.keras.preprocessing.image_dataset_from_directory(\n",
        "    data_root_test,\n",
        "    labels='inferred',\n",
        "    label_mode='categorical',\n",
        "    class_names=class_names,\n",
        "    color_mode='rgb',\n",
        "    batch_size=BATCH_SIZE,\n",
        "    image_size=(HEIGHT, WIDTH),\n",
        "    shuffle=False,\n",
        ")"
      ],
      "metadata": {
        "colab": {
          "base_uri": "https://localhost:8080/"
        },
        "id": "vQkEvU94G0AM",
        "outputId": "c705a99f-ad7f-49db-d95c-4e9af7d25c7a"
      },
      "execution_count": 57,
      "outputs": [
        {
          "output_type": "stream",
          "name": "stdout",
          "text": [
            "Found 117 files belonging to 3 classes.\n"
          ]
        }
      ]
    },
    {
      "cell_type": "code",
      "source": [
        "AUTOTUNE = tf.data.AUTOTUNE\n",
        "train_ds = train_ds.cache().prefetch(buffer_size=AUTOTUNE)\n",
        "val_ds = val_ds.cache().prefetch(buffer_size=AUTOTUNE)\n",
        "test_ds = test_ds.cache().prefetch(buffer_size=AUTOTUNE)"
      ],
      "metadata": {
        "id": "AgO1IpFdby6p"
      },
      "execution_count": 58,
      "outputs": []
    },
    {
      "cell_type": "code",
      "source": [
        "# data augmentation pipeline\n",
        "data_augmentation = keras.Sequential(\n",
        "  [\n",
        "    layers.RandomFlip(\"horizontal\",input_shape=(HEIGHT,WIDTH,3)),\n",
        "    layers.RandomRotation(0.1),\n",
        "    layers.RandomZoom(0.1),\n",
        "  ]\n",
        ")"
      ],
      "metadata": {
        "id": "uej26_7WKbV-"
      },
      "execution_count": 59,
      "outputs": []
    },
    {
      "cell_type": "code",
      "source": [
        "train_ds = train_ds.map(lambda x, y: (data_augmentation(x, training=True), y))"
      ],
      "metadata": {
        "id": "xMI2BidBMSIB"
      },
      "execution_count": 60,
      "outputs": []
    },
    {
      "cell_type": "code",
      "source": [
        "mobileNet = MobileNet(weights='imagenet', include_top=False, input_shape=(HEIGHT,WIDTH,3))\n",
        "model = modelling.recompile_model(mobileNet, 'adam', 'categorical_crossentropy')"
      ],
      "metadata": {
        "id": "x9KGfiqYstMT"
      },
      "execution_count": 61,
      "outputs": []
    },
    {
      "cell_type": "code",
      "source": [
        "callbacks = EarlyStopping(monitor='val_loss', mode = \"min\", patience=5)"
      ],
      "metadata": {
        "id": "rQ6xYyg-osKO"
      },
      "execution_count": 62,
      "outputs": []
    },
    {
      "cell_type": "code",
      "source": [
        "epochs=35\n",
        "history = model.fit(\n",
        "  train_ds,\n",
        "  epochs=epochs,\n",
        "  validation_data=val_ds,\n",
        "  callbacks = callbacks\n",
        ")"
      ],
      "metadata": {
        "colab": {
          "base_uri": "https://localhost:8080/"
        },
        "id": "BT0_hlE_1qSy",
        "outputId": "4efb7a7c-0046-4cab-8325-92e3ac672042"
      },
      "execution_count": 63,
      "outputs": [
        {
          "output_type": "stream",
          "name": "stdout",
          "text": [
            "Epoch 1/35\n",
            "12/12 [==============================] - 26s 2s/step - loss: 1.9416 - accuracy: 0.3979 - val_loss: 1.0172 - val_accuracy: 0.5579\n",
            "Epoch 2/35\n",
            "12/12 [==============================] - 24s 2s/step - loss: 0.9657 - accuracy: 0.5628 - val_loss: 0.8297 - val_accuracy: 0.6526\n",
            "Epoch 3/35\n",
            "12/12 [==============================] - 22s 2s/step - loss: 0.7846 - accuracy: 0.6152 - val_loss: 0.7758 - val_accuracy: 0.6526\n",
            "Epoch 4/35\n",
            "12/12 [==============================] - 24s 2s/step - loss: 0.6881 - accuracy: 0.6990 - val_loss: 0.7630 - val_accuracy: 0.6737\n",
            "Epoch 5/35\n",
            "12/12 [==============================] - 23s 2s/step - loss: 0.6690 - accuracy: 0.7068 - val_loss: 0.7681 - val_accuracy: 0.6421\n",
            "Epoch 6/35\n",
            "12/12 [==============================] - 24s 2s/step - loss: 0.6307 - accuracy: 0.7120 - val_loss: 0.7359 - val_accuracy: 0.6947\n",
            "Epoch 7/35\n",
            "12/12 [==============================] - 24s 2s/step - loss: 0.5883 - accuracy: 0.7539 - val_loss: 0.6996 - val_accuracy: 0.7053\n",
            "Epoch 8/35\n",
            "12/12 [==============================] - 23s 2s/step - loss: 0.5503 - accuracy: 0.7670 - val_loss: 0.7042 - val_accuracy: 0.7474\n",
            "Epoch 9/35\n",
            "12/12 [==============================] - 24s 2s/step - loss: 0.5600 - accuracy: 0.7513 - val_loss: 0.6756 - val_accuracy: 0.7684\n",
            "Epoch 10/35\n",
            "12/12 [==============================] - 22s 2s/step - loss: 0.5025 - accuracy: 0.7958 - val_loss: 0.7119 - val_accuracy: 0.7053\n",
            "Epoch 11/35\n",
            "12/12 [==============================] - 21s 2s/step - loss: 0.4990 - accuracy: 0.7827 - val_loss: 0.7639 - val_accuracy: 0.6842\n",
            "Epoch 12/35\n",
            "12/12 [==============================] - 23s 2s/step - loss: 0.4929 - accuracy: 0.8115 - val_loss: 0.7367 - val_accuracy: 0.6842\n",
            "Epoch 13/35\n",
            "12/12 [==============================] - 22s 2s/step - loss: 0.4564 - accuracy: 0.8377 - val_loss: 0.7497 - val_accuracy: 0.6947\n",
            "Epoch 14/35\n",
            "12/12 [==============================] - 23s 2s/step - loss: 0.4226 - accuracy: 0.8351 - val_loss: 0.7023 - val_accuracy: 0.7579\n"
          ]
        }
      ]
    },
    {
      "cell_type": "code",
      "source": [
        "history.history.keys()"
      ],
      "metadata": {
        "colab": {
          "base_uri": "https://localhost:8080/"
        },
        "id": "q5fnJzF2Qqsu",
        "outputId": "2eff35dd-dda7-4c6a-f073-5c6adba4bd69"
      },
      "execution_count": 64,
      "outputs": [
        {
          "output_type": "execute_result",
          "data": {
            "text/plain": [
              "dict_keys(['loss', 'accuracy', 'val_loss', 'val_accuracy'])"
            ]
          },
          "metadata": {},
          "execution_count": 64
        }
      ]
    },
    {
      "cell_type": "code",
      "source": [
        "acc = history.history['accuracy']\n",
        "val_acc = history.history['val_accuracy']\n",
        "loss = history.history['loss']\n",
        "val_loss = history.history['val_loss']\n",
        "\n",
        "epochs_range = range(epochs)\n",
        "\n",
        "plt.figure(figsize=(8, 8))\n",
        "plt.subplot(1, 2, 1)\n",
        "# plt.plot(epochs_range, acc, label='Training Accuracy')\n",
        "# plt.plot(epochs_range, loss, label='Training Loss')\n",
        "\n",
        "\n",
        "plt.legend(loc='lower right')\n",
        "plt.title('Training Accuracy')\n",
        "\n",
        "plt.subplot(1, 3, 2)\n",
        "\n",
        "#plt.plot(epochs_range, val_acc, label='Validation Accuracy')\n",
        "# plt.plot(epochs_range, val_loss, label='Validation Loss')\n",
        "\n",
        "plt.legend(loc='upper right')\n",
        "plt.title('Training Loss')\n",
        "plt.show()"
      ],
      "metadata": {
        "id": "JgnOco7a1q0M",
        "colab": {
          "base_uri": "https://localhost:8080/",
          "height": 803
        },
        "outputId": "8b1d77a8-660b-45df-c64f-3e74810187aa"
      },
      "execution_count": 69,
      "outputs": [
        {
          "output_type": "stream",
          "name": "stderr",
          "text": [
            "WARNING:matplotlib.legend:No artists with labels found to put in legend.  Note that artists whose label start with an underscore are ignored when legend() is called with no argument.\n",
            "<ipython-input-69-ea08502b937f>:17: MatplotlibDeprecationWarning: Auto-removal of overlapping axes is deprecated since 3.6 and will be removed two minor releases later; explicitly call ax.remove() as needed.\n",
            "  plt.subplot(1, 3, 2)\n",
            "WARNING:matplotlib.legend:No artists with labels found to put in legend.  Note that artists whose label start with an underscore are ignored when legend() is called with no argument.\n"
          ]
        },
        {
          "output_type": "display_data",
          "data": {
            "text/plain": [
              "<Figure size 800x800 with 1 Axes>"
            ],
            "image/png": "[encoded data removed]"
          },
          "metadata": {}
        }
      ]
    },
    {
      "cell_type": "code",
      "source": [
        "trainset_predictions = model.predict(train_ds)\n",
        "train_predicted_labels = [prediction.argmax() for prediction in trainset_predictions]\n",
        "train_true_labels = modelling.extract_labels_categorical(train_ds)"
      ],
      "metadata": {
        "colab": {
          "base_uri": "https://localhost:8080/"
        },
        "id": "clrMNIVgb7Sk",
        "outputId": "cc91d379-fa9b-4694-edea-99c1b3dce518"
      },
      "execution_count": 70,
      "outputs": [
        {
          "output_type": "stream",
          "name": "stdout",
          "text": [
            "12/12 [==============================] - 21s 1s/step\n"
          ]
        }
      ]
    },
    {
      "cell_type": "code",
      "source": [
        "confusion_matrix_train = np.array(tf.math.confusion_matrix(train_true_labels, train_predicted_labels))\n",
        "confusion_matrix_train = tf.math.confusion_matrix(train_true_labels, train_predicted_labels)\n",
        "modelling.plot_cm(confusion_matrix_train, class_names)"
      ],
      "metadata": {
        "colab": {
          "base_uri": "https://localhost:8080/",
          "height": 637
        },
        "id": "Vbnz_gsOcfRB",
        "outputId": "ad0ef7d7-3d22-427f-a892-506c8ac69e37"
      },
      "execution_count": 71,
      "outputs": [
        {
          "output_type": "display_data",
          "data": {
            "text/plain": [
              "<Figure size 1000x700 with 2 Axes>"
            ],
            "image/png": "[encoded data removed]"
          },
          "metadata": {}
        }
      ]
    },
    {
      "cell_type": "code",
      "source": [
        "print(classification_report(train_true_labels,train_predicted_labels))"
      ],
      "metadata": {
        "colab": {
          "base_uri": "https://localhost:8080/"
        },
        "id": "hSjVr9YIkRBz",
        "outputId": "ebd55ba0-49ca-40ea-f582-65eedd43fbad"
      },
      "execution_count": 72,
      "outputs": [
        {
          "output_type": "stream",
          "name": "stdout",
          "text": [
            "              precision    recall  f1-score   support\n",
            "\n",
            "           0       0.87      0.77      0.82       136\n",
            "           1       0.85      0.88      0.87       119\n",
            "           2       0.83      0.91      0.87       127\n",
            "\n",
            "    accuracy                           0.85       382\n",
            "   macro avg       0.85      0.85      0.85       382\n",
            "weighted avg       0.85      0.85      0.85       382\n",
            "\n"
          ]
        }
      ]
    },
    {
      "cell_type": "code",
      "source": [
        "valset_predictions = model.predict(val_ds)\n",
        "val_predicted_labels = [prediction.argmax() for prediction in valset_predictions]\n",
        "val_true_labels = modelling.extract_labels_categorical(val_ds)"
      ],
      "metadata": {
        "colab": {
          "base_uri": "https://localhost:8080/"
        },
        "id": "8tmxuDQnxh01",
        "outputId": "bc026726-c723-474f-8e51-94621f8b9f9f"
      },
      "execution_count": 73,
      "outputs": [
        {
          "output_type": "stream",
          "name": "stdout",
          "text": [
            "3/3 [==============================] - 3s 979ms/step\n"
          ]
        }
      ]
    },
    {
      "cell_type": "code",
      "source": [
        "confusion_matrix_val = np.array(tf.math.confusion_matrix(val_true_labels, val_predicted_labels))\n",
        "confusion_matrix_val = tf.math.confusion_matrix(val_true_labels, val_predicted_labels)\n",
        "modelling.plot_cm(confusion_matrix_val, class_names)"
      ],
      "metadata": {
        "colab": {
          "base_uri": "https://localhost:8080/",
          "height": 637
        },
        "id": "x2TyK2eBxi74",
        "outputId": "de94887f-d0d8-421e-9f94-0baf0a3dadd7"
      },
      "execution_count": 74,
      "outputs": [
        {
          "output_type": "display_data",
          "data": {
            "text/plain": [
              "<Figure size 1000x700 with 2 Axes>"
            ],
            "image/png": "[encoded data removed]"
          },
          "metadata": {}
        }
      ]
    },
    {
      "cell_type": "code",
      "source": [
        "print(classification_report(val_true_labels,val_predicted_labels))"
      ],
      "metadata": {
        "colab": {
          "base_uri": "https://localhost:8080/"
        },
        "id": "TYxDMLOhxllm",
        "outputId": "09935f41-6c8e-4f8e-c1b3-1f5f234543a2"
      },
      "execution_count": 75,
      "outputs": [
        {
          "output_type": "stream",
          "name": "stdout",
          "text": [
            "              precision    recall  f1-score   support\n",
            "\n",
            "           0       0.64      0.79      0.71        29\n",
            "           1       0.85      0.78      0.81        36\n",
            "           2       0.81      0.70      0.75        30\n",
            "\n",
            "    accuracy                           0.76        95\n",
            "   macro avg       0.77      0.76      0.76        95\n",
            "weighted avg       0.77      0.76      0.76        95\n",
            "\n"
          ]
        }
      ]
    },
    {
      "cell_type": "code",
      "source": [
        "testset_predictions = model.predict(test_ds)\n",
        "test_predicted_labels = [prediction.argmax() for prediction in testset_predictions]\n",
        "test_true_labels = modelling.extract_labels_categorical(test_ds)"
      ],
      "metadata": {
        "colab": {
          "base_uri": "https://localhost:8080/"
        },
        "id": "JzH9Fg4AG9p-",
        "outputId": "581d7080-7c9e-4a2d-d1fa-da0cbe1a4f62"
      },
      "execution_count": 76,
      "outputs": [
        {
          "output_type": "stream",
          "name": "stdout",
          "text": [
            "4/4 [==============================] - 4s 887ms/step\n"
          ]
        }
      ]
    },
    {
      "cell_type": "code",
      "source": [
        "confusion_matrix_test = np.array(tf.math.confusion_matrix(test_true_labels, test_predicted_labels))\n",
        "confusion_matrix_test = tf.math.confusion_matrix(test_true_labels, test_predicted_labels)\n",
        "modelling.plot_cm(confusion_matrix_test, class_names)"
      ],
      "metadata": {
        "colab": {
          "base_uri": "https://localhost:8080/",
          "height": 637
        },
        "id": "LOKSsVSKHD73",
        "outputId": "6e5ec91d-5f5e-4548-de64-8d965ef4f457"
      },
      "execution_count": 77,
      "outputs": [
        {
          "output_type": "display_data",
          "data": {
            "text/plain": [
              "<Figure size 1000x700 with 2 Axes>"
            ],
            "image/png": "[encoded data removed]"
          },
          "metadata": {}
        }
      ]
    },
    {
      "cell_type": "code",
      "source": [
        "print(classification_report(test_true_labels,test_predicted_labels))"
      ],
      "metadata": {
        "colab": {
          "base_uri": "https://localhost:8080/"
        },
        "id": "cYrdZlhUHE_1",
        "outputId": "2f9a785d-f02a-4539-b1fb-5339f893f811"
      },
      "execution_count": 78,
      "outputs": [
        {
          "output_type": "stream",
          "name": "stdout",
          "text": [
            "              precision    recall  f1-score   support\n",
            "\n",
            "           0       0.62      0.55      0.58        38\n",
            "           1       0.72      0.67      0.69        39\n",
            "           2       0.70      0.82      0.76        40\n",
            "\n",
            "    accuracy                           0.68       117\n",
            "   macro avg       0.68      0.68      0.68       117\n",
            "weighted avg       0.68      0.68      0.68       117\n",
            "\n"
          ]
        }
      ]
    },
    {
      "cell_type": "markdown",
      "source": [
        "# Summary\n",
        "\n",
        "Regularizing works in general! The performance of the training dataset\n",
        "decreased as overfitting was reduced. Meanwhile the validation and testset performance rose significantly. This experiment was sucessful, even though I could do much more here. In a next step I want to look at different models and fine tune each of them suiting their needs with the general approach of this built pipeline."
      ],
      "metadata": {
        "id": "Gyb1QO2HhyJJ"
      }
    },
    {
      "cell_type": "code",
      "source": [],
      "metadata": {
        "id": "K15HyskvT2ei"
      },
      "execution_count": null,
      "outputs": []
    }
  ]
}